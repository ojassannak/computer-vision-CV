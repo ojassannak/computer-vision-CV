{
 "cells": [
  {
   "cell_type": "markdown",
   "id": "52210f6b-4da1-46fd-a6ad-0cd08bfe29e0",
   "metadata": {},
   "source": [
    "<h4>shearing Image</h4>"
   ]
  },
  {
   "cell_type": "code",
   "execution_count": 2,
   "id": "ab4be66d-78f3-417d-b4b4-b47e4b60f892",
   "metadata": {},
   "outputs": [],
   "source": [
    "import cv2\n",
    "import numpy as np"
   ]
  },
  {
   "cell_type": "code",
   "execution_count": 4,
   "id": "67e931e4-c39b-4bdd-bb32-66dcad5a5cbe",
   "metadata": {},
   "outputs": [],
   "source": [
    "img =cv2.imread('images/lenna.png')"
   ]
  },
  {
   "cell_type": "code",
   "execution_count": 10,
   "id": "c83ace1d-d448-478a-8bd4-9e11ab08ac91",
   "metadata": {},
   "outputs": [],
   "source": [
    "#Define shearing factors (adjust as needed)\n",
    "shear_x = 0.40 #Shear along x-axis\n",
    "shear_y = -0.25 # Shear along y-axis\n",
    "\n",
    "# Create transformation matrix\n",
    "M = np.array([[1,shear_x,0],\n",
    "              [shear_y,1,0],\n",
    "              [0,0,1]])\n",
    "\n",
    "rows, cols, _ = img.shape\n",
    "\n",
    "T = np.float32([[1,0,0],[0,1,150]])\n",
    "\n",
    "# We use warpAffine to transform the using the matrix , T\n",
    "img_translation = cv2.warpAffine(img, T,(int(cols*1.5),int(rows*1.5)))\n",
    "\n",
    "sheared_img = cv2.warpPerspective(img_translation, M,(int(cols*1.5), int(rows*1.5)))"
   ]
  },
  {
   "cell_type": "code",
   "execution_count": 12,
   "id": "39d9067d-4633-41e5-9d21-57237b144347",
   "metadata": {},
   "outputs": [],
   "source": [
    "cv2.imshow('Sheared Image',sheared_img)\n",
    "cv2.waitKey(0)\n",
    "cv2.destroyAllWindows()"
   ]
  },
  {
   "cell_type": "code",
   "execution_count": 14,
   "id": "a3823357-25c1-478f-91b3-f1059152918f",
   "metadata": {},
   "outputs": [
    {
     "data": {
      "text/plain": [
       "(768, 768, 3)"
      ]
     },
     "execution_count": 14,
     "metadata": {},
     "output_type": "execute_result"
    }
   ],
   "source": [
    "sheared_img.shape"
   ]
  },
  {
   "cell_type": "code",
   "execution_count": null,
   "id": "2ff3e240-42ac-47d0-8263-bef3e39b3441",
   "metadata": {},
   "outputs": [],
   "source": []
  }
 ],
 "metadata": {
  "kernelspec": {
   "display_name": "Python 3 (ipykernel)",
   "language": "python",
   "name": "python3"
  },
  "language_info": {
   "codemirror_mode": {
    "name": "ipython",
    "version": 3
   },
   "file_extension": ".py",
   "mimetype": "text/x-python",
   "name": "python",
   "nbconvert_exporter": "python",
   "pygments_lexer": "ipython3",
   "version": "3.12.4"
  }
 },
 "nbformat": 4,
 "nbformat_minor": 5
}
