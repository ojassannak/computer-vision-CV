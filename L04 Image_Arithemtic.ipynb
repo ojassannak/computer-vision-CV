{
 "cells": [
  {
   "cell_type": "code",
   "execution_count": 1,
   "id": "bc08adc3-8c48-41fb-ac5e-166d4e239598",
   "metadata": {},
   "outputs": [],
   "source": [
    "import cv2\n",
    "import matplotlib.pyplot as plt\n",
    "import numpy  as np"
   ]
  },
  {
   "cell_type": "code",
   "execution_count": 2,
   "id": "e204da50-acf7-4330-92a1-628fd452f6fc",
   "metadata": {},
   "outputs": [],
   "source": [
    "image1 = cv2.imread(\"images/lenna.png\")\n",
    "image2 = cv2.imread(\"images/sun.png\")"
   ]
  },
  {
   "cell_type": "code",
   "execution_count": 3,
   "id": "d38af153-f370-4df8-9d91-e672a51b75d3",
   "metadata": {},
   "outputs": [
    {
     "data": {
      "text/plain": [
       "(512, 512, 3)"
      ]
     },
     "execution_count": 3,
     "metadata": {},
     "output_type": "execute_result"
    }
   ],
   "source": [
    "image1.shape"
   ]
  },
  {
   "cell_type": "code",
   "execution_count": 4,
   "id": "61faca45-a975-4c73-8547-8a924f3241eb",
   "metadata": {},
   "outputs": [
    {
     "data": {
      "text/plain": [
       "(512, 512, 3)"
      ]
     },
     "execution_count": 4,
     "metadata": {},
     "output_type": "execute_result"
    }
   ],
   "source": [
    "image2.shape"
   ]
  },
  {
   "cell_type": "code",
   "execution_count": 5,
   "id": "66ea252a-8796-4014-91bf-0436221812aa",
   "metadata": {},
   "outputs": [],
   "source": [
    "added_image=cv2.add(image1,image2)"
   ]
  },
  {
   "cell_type": "code",
   "execution_count": 6,
   "id": "069cf8f5-d287-41eb-8c72-f27f91ecd51b",
   "metadata": {},
   "outputs": [
    {
     "data": {
      "text/plain": [
       "array([[[189, 241, 255],\n",
       "        [189, 241, 255],\n",
       "        [197, 241, 255],\n",
       "        ...,\n",
       "        [181, 233, 255],\n",
       "        [167, 214, 255],\n",
       "        [146, 182, 255]],\n",
       "\n",
       "       [[189, 238, 255],\n",
       "        [189, 238, 255],\n",
       "        [197, 238, 255],\n",
       "        ...,\n",
       "        [181, 232, 255],\n",
       "        [168, 213, 255],\n",
       "        [147, 181, 255]],\n",
       "\n",
       "       [[189, 238, 255],\n",
       "        [189, 238, 255],\n",
       "        [196, 238, 255],\n",
       "        ...,\n",
       "        [181, 230, 255],\n",
       "        [168, 212, 255],\n",
       "        [148, 181, 255]],\n",
       "\n",
       "       ...,\n",
       "\n",
       "       [[ 61,  32,  96],\n",
       "        [ 60,  31,  95],\n",
       "        [ 58,  40, 103],\n",
       "        ...,\n",
       "        [ 89, 108, 202],\n",
       "        [ 79,  98, 197],\n",
       "        [ 79,  84, 194]],\n",
       "\n",
       "       [[ 57,  33,  91],\n",
       "        [ 58,  34,  92],\n",
       "        [ 62,  40, 103],\n",
       "        ...,\n",
       "        [ 85, 106, 208],\n",
       "        [ 82,  97, 201],\n",
       "        [ 82,  98, 203]],\n",
       "\n",
       "       [[ 58,  34,  92],\n",
       "        [ 58,  33,  91],\n",
       "        [ 62,  38, 100],\n",
       "        ...,\n",
       "        [ 82,  99, 200],\n",
       "        [ 82,  94, 198],\n",
       "        [ 82,  97, 202]]], dtype=uint8)"
      ]
     },
     "execution_count": 6,
     "metadata": {},
     "output_type": "execute_result"
    }
   ],
   "source": [
    "added_image"
   ]
  },
  {
   "cell_type": "markdown",
   "id": "ef2f3c15-775a-4016-8c46-47f781eb4eb6",
   "metadata": {},
   "source": [
    "<h4>Image Addition</h4>"
   ]
  },
  {
   "cell_type": "code",
   "execution_count": 8,
   "id": "98d13c7c-b95f-4ca3-a817-64d384c71171",
   "metadata": {},
   "outputs": [],
   "source": [
    "add_image = image1 + image2"
   ]
  },
  {
   "cell_type": "code",
   "execution_count": 9,
   "id": "f7a2fcf7-2d8a-4ce9-99c6-7d1f1e7c37bf",
   "metadata": {},
   "outputs": [],
   "source": [
    "cv2.imshow('Addition',add_image)\n",
    "cv2.waitKey(0)\n",
    "cv2.destroyAllWindows()"
   ]
  },
  {
   "cell_type": "code",
   "execution_count": 10,
   "id": "aa4b2e02-a01c-4115-8183-6c4a3ce681f0",
   "metadata": {},
   "outputs": [
    {
     "data": {
      "text/plain": [
       "array([[[189, 241,  93],\n",
       "        [189, 241,  93],\n",
       "        [197, 241,  90],\n",
       "        ...,\n",
       "        [181, 233,  82],\n",
       "        [167, 214,  71],\n",
       "        [146, 182,  49]],\n",
       "\n",
       "       [[189, 238,  91],\n",
       "        [189, 238,  91],\n",
       "        [197, 238,  88],\n",
       "        ...,\n",
       "        [181, 232,  80],\n",
       "        [168, 213,  70],\n",
       "        [147, 181,  48]],\n",
       "\n",
       "       [[189, 238,  91],\n",
       "        [189, 238,  91],\n",
       "        [196, 238,  88],\n",
       "        ...,\n",
       "        [181, 230,  79],\n",
       "        [168, 212,  69],\n",
       "        [148, 181,  48]],\n",
       "\n",
       "       ...,\n",
       "\n",
       "       [[ 61,  32,  96],\n",
       "        [ 60,  31,  95],\n",
       "        [ 58,  40, 103],\n",
       "        ...,\n",
       "        [ 89, 108, 202],\n",
       "        [ 79,  98, 197],\n",
       "        [ 79,  84, 194]],\n",
       "\n",
       "       [[ 57,  33,  91],\n",
       "        [ 58,  34,  92],\n",
       "        [ 62,  40, 103],\n",
       "        ...,\n",
       "        [ 85, 106, 208],\n",
       "        [ 82,  97, 201],\n",
       "        [ 82,  98, 203]],\n",
       "\n",
       "       [[ 58,  34,  92],\n",
       "        [ 58,  33,  91],\n",
       "        [ 62,  38, 100],\n",
       "        ...,\n",
       "        [ 82,  99, 200],\n",
       "        [ 82,  94, 198],\n",
       "        [ 82,  97, 202]]], dtype=uint8)"
      ]
     },
     "execution_count": 10,
     "metadata": {},
     "output_type": "execute_result"
    }
   ],
   "source": [
    "add_image"
   ]
  },
  {
   "cell_type": "markdown",
   "id": "f39f8766-5fad-4b69-bb32-3a2c6e798d4f",
   "metadata": {},
   "source": [
    "<h4>Image Substracion</h4>"
   ]
  },
  {
   "cell_type": "code",
   "execution_count": 12,
   "id": "64ac53f6-65e2-4976-b7d8-da1776fafb63",
   "metadata": {},
   "outputs": [],
   "source": [
    "subtracted_image = cv2.subtract(image1,image2)"
   ]
  },
  {
   "cell_type": "code",
   "execution_count": 13,
   "id": "556b0b0b-e7e6-4703-9300-6a8d66b39531",
   "metadata": {},
   "outputs": [],
   "source": [
    "cv2.imshow('subtract',subtracted_image)\n",
    "cv2.waitKey(0)\n",
    "cv2.destroyAllWindows()"
   ]
  },
  {
   "cell_type": "code",
   "execution_count": 14,
   "id": "7ebad304-f2ba-46e5-a163-3439c28036d1",
   "metadata": {},
   "outputs": [],
   "source": [
    "subtracted_image = cv2.subtract(image2,image1)"
   ]
  },
  {
   "cell_type": "code",
   "execution_count": 15,
   "id": "1ce19f7a-6145-4200-9e47-4f13cd6701f5",
   "metadata": {},
   "outputs": [],
   "source": [
    "cv2.imshow('subtract',subtracted_image)\n",
    "cv2.waitKey(0)\n",
    "cv2.destroyAllWindows()"
   ]
  },
  {
   "cell_type": "code",
   "execution_count": 16,
   "id": "49788dae-3b61-4f7c-aa66-40c6a351a31e",
   "metadata": {},
   "outputs": [],
   "source": [
    "sub_image = image1 - image2\n",
    "\n",
    "cv2.imshow('subtract',sub_image)\n",
    "cv2.waitKey(0)\n",
    "cv2.destroyAllWindows()"
   ]
  },
  {
   "cell_type": "code",
   "execution_count": 17,
   "id": "9f9c0114-6c13-43ac-af59-bbc08332eef7",
   "metadata": {},
   "outputs": [],
   "source": [
    "new_image = added_image - image1\n",
    "\n",
    "cv2.imshow('new_image',new_image)\n",
    "cv2.waitKey(0)\n",
    "cv2.destroyAllWindows()"
   ]
  },
  {
   "cell_type": "code",
   "execution_count": 18,
   "id": "e4fd98c2-6c3c-4873-a575-e282d124964d",
   "metadata": {},
   "outputs": [],
   "source": [
    "new_image = added_image - image2\n",
    "\n",
    "cv2.imshow('new_image',new_image)\n",
    "cv2.waitKey(0)\n",
    "cv2.destroyAllWindows()"
   ]
  },
  {
   "cell_type": "code",
   "execution_count": 19,
   "id": "b952a950-a579-4b3a-97c4-78cc8dbba0b5",
   "metadata": {},
   "outputs": [],
   "source": [
    "cv2.imshow('Added with scaler',image1-30)\n",
    "cv2.waitKey(0)\n",
    "cv2.destroyAllWindows()"
   ]
  },
  {
   "cell_type": "markdown",
   "id": "6e926649-683d-4c10-88b4-a01059b7a7dd",
   "metadata": {},
   "source": [
    "<h4>Image blending</h4>"
   ]
  },
  {
   "cell_type": "code",
   "execution_count": 21,
   "id": "11a5e92c-8811-4d3d-b656-a043cf0c673b",
   "metadata": {},
   "outputs": [],
   "source": [
    "alpha = 0.5  # transperancy factor\n",
    "blended_image = cv2.addWeighted(image1,alpha,image2, 1 - alpha, 0)\n",
    "\n",
    "cv2.imshow('Blended image',blended_image)\n",
    "cv2.waitKey(0)\n",
    "cv2.destroyAllWindows()"
   ]
  },
  {
   "cell_type": "markdown",
   "id": "d4f1632d-1c25-4cd3-be57-922f70f32398",
   "metadata": {},
   "source": [
    "alpha = 0.8  # transperancy factor\n",
    "blended_image = cv2.addWeighted(image1,alpha,image2, 1 - alpha, 0)\n",
    "\n",
    "alpha = 0.5  # transperancy factor\n",
    "blended_image = cv2.addWeighted(image1,alpha,image2, 1 - alpha, 0)\n",
    "\n",
    "cv2.imshow('Blended image',blended_image)\n",
    "cv2.waitKey(0)\n",
    "cv2.destroyAllWindows()"
   ]
  },
  {
   "cell_type": "markdown",
   "id": "fc25ba13-ce6d-4f21-8429-34119dc181a7",
   "metadata": {},
   "source": [
    "<h4>Divde and Multiple images</h4>"
   ]
  },
  {
   "cell_type": "code",
   "execution_count": 24,
   "id": "d1194ea1-55ee-491a-a282-146b270a0cb0",
   "metadata": {},
   "outputs": [],
   "source": [
    "Bbrightned_image = cv2.multiply(image1, 1.5)\n",
    "Darkened_image = cv2.divide(image1, 2.5)\n",
    "\n",
    "alpha = 0.5  # transperancy factor\n",
    "blended_image = cv2.addWeighted(image1,alpha,image2, 1 - alpha, 0)\n",
    "\n",
    "cv2.imshow('bbrightned Image',Bbrightned_image)\n",
    "cv2.imshow('Origninal image',image1)\n",
    "cv2.imshow(' Darkened image',Darkened_image)\n",
    "cv2.waitKey(0)\n",
    "cv2.destroyAllWindows()"
   ]
  },
  {
   "cell_type": "markdown",
   "id": "61275510-48a2-42b3-9d06-f61fd9eaf93f",
   "metadata": {},
   "source": [
    "<h4>Bitwise Operator</h4>"
   ]
  },
  {
   "cell_type": "code",
   "execution_count": 26,
   "id": "c5c02ad7-a462-4f94-a1bf-07f1b8ecc725",
   "metadata": {},
   "outputs": [],
   "source": [
    "image1 = cv2.imread(\"images/input1.png\")\n",
    "image2 = cv2.imread(\"images/input2.png\")"
   ]
  },
  {
   "cell_type": "code",
   "execution_count": 27,
   "id": "6d7b85f9-0295-4297-b46f-db127e6d420c",
   "metadata": {},
   "outputs": [],
   "source": [
    "cv2.imshow(' Input-1',image1)\n",
    "cv2.imshow(' Input-2',image2)\n",
    "cv2.waitKey(0)\n",
    "cv2.destroyAllWindows()"
   ]
  },
  {
   "cell_type": "code",
   "execution_count": 28,
   "id": "f7c229d0-1b5d-4c02-a50e-744e84afbad1",
   "metadata": {},
   "outputs": [
    {
     "data": {
      "text/plain": [
       "(250, 499, 3)"
      ]
     },
     "execution_count": 28,
     "metadata": {},
     "output_type": "execute_result"
    }
   ],
   "source": [
    "image1.shape"
   ]
  },
  {
   "cell_type": "code",
   "execution_count": 29,
   "id": "770fa74c-4475-4a66-9512-9b52d22d1df8",
   "metadata": {},
   "outputs": [
    {
     "data": {
      "text/plain": [
       "(250, 499, 3)"
      ]
     },
     "execution_count": 29,
     "metadata": {},
     "output_type": "execute_result"
    }
   ],
   "source": [
    "image2.shape"
   ]
  },
  {
   "cell_type": "code",
   "execution_count": 30,
   "id": "bf71032a-1ef1-4538-be0e-27f21fb93b08",
   "metadata": {},
   "outputs": [],
   "source": [
    "anded_image = cv2.bitwise_and(image1,image2)"
   ]
  },
  {
   "cell_type": "code",
   "execution_count": 31,
   "id": "5db3351c-3c6a-48bd-ac0b-bd34537d4323",
   "metadata": {},
   "outputs": [],
   "source": [
    "cv2.imshow(' Input-1',image1)\n",
    "cv2.imshow(' Input-2',image2)\n",
    "cv2.imshow('AND',anded_image)\n",
    "cv2.waitKey(0)\n",
    "cv2.destroyAllWindows()"
   ]
  },
  {
   "cell_type": "code",
   "execution_count": 32,
   "id": "d9142354-91a8-425b-a414-5e0a12b5cce8",
   "metadata": {},
   "outputs": [],
   "source": [
    "img1 = cv2.imread(\"images/lenna.png\")\n",
    "img2 = cv2.imread(\"images/sun.png\")"
   ]
  },
  {
   "cell_type": "code",
   "execution_count": 33,
   "id": "509c68ed-5715-4086-b0ac-3aa0aa7452f5",
   "metadata": {},
   "outputs": [],
   "source": [
    "anded_image = cv2.bitwise_and(img1,img2)\n",
    "cv2.imshow('AND',anded_image)\n",
    "cv2.waitKey(0)\n",
    "cv2.destroyAllWindows()"
   ]
  },
  {
   "cell_type": "markdown",
   "id": "8a5dab5f-209a-4e39-9a73-df96dba8b337",
   "metadata": {},
   "source": [
    "<h4>Bitwise OR</h4>"
   ]
  },
  {
   "cell_type": "code",
   "execution_count": 35,
   "id": "96ea65ac-9da9-4452-907e-a7abee836192",
   "metadata": {},
   "outputs": [],
   "source": [
    "ored_image = cv2.bitwise_or(image1,image2)"
   ]
  },
  {
   "cell_type": "code",
   "execution_count": 36,
   "id": "8b217e0e-00cf-4d28-87b3-94b1405b2570",
   "metadata": {},
   "outputs": [],
   "source": [
    "cv2.imshow(' Input-1',image1)\n",
    "cv2.imshow(' Input-2',image2)\n",
    "cv2.imshow('OR',ored_image)\n",
    "cv2.waitKey(0)\n",
    "cv2.destroyAllWindows()"
   ]
  },
  {
   "cell_type": "code",
   "execution_count": 37,
   "id": "4a38b90c-f796-455f-b956-e37e6c98cf20",
   "metadata": {},
   "outputs": [],
   "source": [
    "ored_image = cv2.bitwise_or(img1,img2)"
   ]
  },
  {
   "cell_type": "code",
   "execution_count": 38,
   "id": "8357581a-aa9b-433b-8cd3-5b87a452e4bf",
   "metadata": {},
   "outputs": [],
   "source": [
    "cv2.imshow('OR',ored_image)\n",
    "cv2.waitKey(0)\n",
    "cv2.destroyAllWindows()"
   ]
  },
  {
   "cell_type": "markdown",
   "id": "bbf51c38-3364-4abe-9e43-4164d0ace141",
   "metadata": {},
   "source": [
    "<h4>Bitwise XOR</h4>"
   ]
  },
  {
   "cell_type": "code",
   "execution_count": 40,
   "id": "c1134192-4311-461f-9394-e04cbaec04f5",
   "metadata": {},
   "outputs": [],
   "source": [
    "xored_image = cv2.bitwise_xor(image1,image2)"
   ]
  },
  {
   "cell_type": "code",
   "execution_count": 41,
   "id": "8aab54c4-1c1c-4f82-9695-d9ac9f2e3f60",
   "metadata": {},
   "outputs": [],
   "source": [
    "cv2.imshow(' Input-1',image1)\n",
    "cv2.imshow(' Input-2',image2)\n",
    "cv2.imshow('XOR',xored_image)\n",
    "cv2.waitKey(0)\n",
    "cv2.destroyAllWindows()"
   ]
  },
  {
   "cell_type": "code",
   "execution_count": 42,
   "id": "59eb4178-1015-409e-83c2-d711362c7604",
   "metadata": {},
   "outputs": [],
   "source": [
    "xored_image = cv2.bitwise_xor(img1,img2)\n",
    "cv2.imshow(\"XOR\",xored_image)\n",
    "cv2.waitKey(0)\n",
    "cv2.destroyAllWindows()"
   ]
  },
  {
   "cell_type": "markdown",
   "id": "984ebf1c-674d-4c97-ba76-80840ea36242",
   "metadata": {},
   "source": [
    "<h4>Bitwise NOT</h4>"
   ]
  },
  {
   "cell_type": "code",
   "execution_count": 44,
   "id": "18f9a2b1-d290-4f13-bcb7-eccee627fb8a",
   "metadata": {},
   "outputs": [],
   "source": [
    "not_image1 = cv2.bitwise_not(image1)\n",
    "not_image2 = cv2.bitwise_not(image2)"
   ]
  },
  {
   "cell_type": "code",
   "execution_count": 45,
   "id": "fb4530d3-9198-4ad9-8f8f-3e1d0ec54eb3",
   "metadata": {},
   "outputs": [],
   "source": [
    "cv2.imshow(' Input-1',image1)\n",
    "cv2.imshow('NOT',not_image1)\n",
    "cv2.imshow(' Input-2',image2)\n",
    "cv2.imshow('NOT',not_image2)\n",
    "cv2.waitKey(0)\n",
    "cv2.destroyAllWindows()"
   ]
  },
  {
   "cell_type": "code",
   "execution_count": 46,
   "id": "1de86dda-b9b5-4359-b3a1-54a5d1995ad4",
   "metadata": {},
   "outputs": [],
   "source": [
    "not_img1 = cv2.bitwise_not(img1)"
   ]
  },
  {
   "cell_type": "code",
   "execution_count": 47,
   "id": "8127122f-ec44-4db2-873c-9276eb114a8b",
   "metadata": {},
   "outputs": [],
   "source": [
    "cv2.imshow('NOT',not_img1)\n",
    "\n",
    "cv2.waitKey(0)\n",
    "cv2.destroyAllWindows()"
   ]
  },
  {
   "cell_type": "markdown",
   "id": "de32d690-9369-4f23-a680-e7bcd272f96c",
   "metadata": {},
   "source": [
    " <h4>Image masking</h4>"
   ]
  },
  {
   "cell_type": "code",
   "execution_count": 49,
   "id": "923c77df-9c17-4294-850f-d2e43cae9622",
   "metadata": {},
   "outputs": [],
   "source": [
    "img = cv2.imread('images/rgy.jpg')"
   ]
  },
  {
   "cell_type": "code",
   "execution_count": 50,
   "id": "5842e9f7-cb8f-4e34-b049-5f183dd9eee3",
   "metadata": {},
   "outputs": [],
   "source": [
    "cv2.imshow('Fruits',img)\n",
    "cv2.waitKey(0)\n",
    "cv2.destroyAllWindows()"
   ]
  },
  {
   "cell_type": "code",
   "execution_count": 55,
   "id": "66fae0d4-ae9c-4d73-a49c-e8e66768500b",
   "metadata": {},
   "outputs": [],
   "source": [
    "# The Kernel to be used for dilation purpose\n",
    "Kernel =np.ones((5,5), np.uint8)\n",
    "\n",
    "# converting the image to HSV format\n",
    "hsv = cv2.cvtColor(img, cv2.COLOR_BGR2HSV)\n",
    "\n",
    "#defining the lower and upper values of HSV, this will detect yellow color\n",
    "Lower_hsv = np.array([20,70,100])\n",
    "Upper_hsv = np.array([30,255,255])\n",
    "\n",
    "#creating the mask by eroding , morphing, dilating process\n",
    "Mask = cv2.inRange(hsv,Lower_hsv, Upper_hsv)\n",
    "Mask = cv2.erode(Mask, Kernel, iterations =1)\n",
    "Mask = cv2.morphologyEx(Mask, cv2.MORPH_OPEN, Kernel)\n",
    "Mask = cv2.dilate(Mask, Kernel, iterations=1)\n",
    "\n",
    "# Inverting the  mask by performing bitwise-not operation\n",
    "Mask= cv2.bitwise_not(Mask)\n",
    "\n",
    "#Dispalying the image\n",
    "cv2.imshow('Mask',Mask)\n",
    "cv2.waitKey(0)\n",
    "cv2.destroyAllWindows()"
   ]
  },
  {
   "cell_type": "code",
   "execution_count": 57,
   "id": "b6a6187a-657b-4236-8c80-70f469bb08ba",
   "metadata": {},
   "outputs": [],
   "source": [
    "mask_yellow = cv2.bitwise_not(Mask)\n",
    "Mask = cv2.bitwise_and(img, img, mask = mask_yellow)"
   ]
  },
  {
   "cell_type": "code",
   "execution_count": 59,
   "id": "a24353a0-d73d-423d-8f79-5c0fabb28a94",
   "metadata": {},
   "outputs": [],
   "source": [
    "#Dispalying the image\n",
    "cv2.imshow('Mask',Mask)\n",
    "cv2.waitKey(0)\n",
    "cv2.destroyAllWindows()"
   ]
  },
  {
   "cell_type": "code",
   "execution_count": null,
   "id": "e795c4a9-62ce-4f22-8807-34c822f33005",
   "metadata": {},
   "outputs": [],
   "source": []
  }
 ],
 "metadata": {
  "kernelspec": {
   "display_name": "Python 3 (ipykernel)",
   "language": "python",
   "name": "python3"
  },
  "language_info": {
   "codemirror_mode": {
    "name": "ipython",
    "version": 3
   },
   "file_extension": ".py",
   "mimetype": "text/x-python",
   "name": "python",
   "nbconvert_exporter": "python",
   "pygments_lexer": "ipython3",
   "version": "3.12.4"
  }
 },
 "nbformat": 4,
 "nbformat_minor": 5
}
